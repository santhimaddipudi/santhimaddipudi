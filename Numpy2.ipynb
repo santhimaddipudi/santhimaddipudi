{
  "nbformat": 4,
  "nbformat_minor": 0,
  "metadata": {
    "colab": {
      "provenance": [],
      "authorship_tag": "ABX9TyMmR0NlXVLnUx1w9nGa34qt",
      "include_colab_link": true
    },
    "kernelspec": {
      "name": "python3",
      "display_name": "Python 3"
    },
    "language_info": {
      "name": "python"
    }
  },
  "cells": [
    {
      "cell_type": "markdown",
      "metadata": {
        "id": "view-in-github",
        "colab_type": "text"
      },
      "source": [
        "<a href=\"https://colab.research.google.com/github/santhimaddipudi/santhimaddipudi/blob/main/Numpy2.ipynb\" target=\"_parent\"><img src=\"https://colab.research.google.com/assets/colab-badge.svg\" alt=\"Open In Colab\"/></a>"
      ]
    },
    {
      "cell_type": "code",
      "execution_count": 2,
      "metadata": {
        "colab": {
          "base_uri": "https://localhost:8080/"
        },
        "id": "bBFb7Q0AG-r3",
        "outputId": "01e43d97-dc29-45e1-e36e-a6026712170c"
      },
      "outputs": [
        {
          "output_type": "execute_result",
          "data": {
            "text/plain": [
              "array([[2, 0, 0, 0],\n",
              "       [0, 3, 0, 0],\n",
              "       [0, 0, 4, 0],\n",
              "       [0, 0, 0, 5]])"
            ]
          },
          "metadata": {},
          "execution_count": 2
        }
      ],
      "source": [
        "#creates a diagnal array\n",
        "import numpy as np\n",
        "np.diag((2,3,4,5))"
      ]
    },
    {
      "cell_type": "code",
      "source": [
        "np.random.seed(100) # Set seed\n",
        "ar11=np.random.rand(3); ar11"
      ],
      "metadata": {
        "colab": {
          "base_uri": "https://localhost:8080/"
        },
        "id": "4Pbjhyu1Hj2i",
        "outputId": "6019ac9e-9bf0-483a-a35d-0c4ac8aa1681"
      },
      "execution_count": 3,
      "outputs": [
        {
          "output_type": "execute_result",
          "data": {
            "text/plain": [
              "array([0.54340494, 0.27836939, 0.42451759])"
            ]
          },
          "metadata": {},
          "execution_count": 3
        }
      ]
    }
  ]
}